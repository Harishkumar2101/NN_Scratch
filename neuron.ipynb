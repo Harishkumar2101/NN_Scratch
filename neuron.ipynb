{
 "cells": [
  {
   "cell_type": "markdown",
   "id": "b1f280b9",
   "metadata": {},
   "source": [
    "###  Building A Neuron "
   ]
  },
  {
   "cell_type": "code",
   "execution_count": 1,
   "id": "4327687b",
   "metadata": {},
   "outputs": [],
   "source": [
    "inputs = [1.0, 2.0, 3.0, 2.5]\n",
    "weights = [0.2, 0.8, -0.5, 1.0]\n",
    "bias = 2.0"
   ]
  },
  {
   "cell_type": "markdown",
   "id": "e6ff453d",
   "metadata": {},
   "source": [
    "##### Notes\n",
    "\n",
    "- Above one is ` Single Neuron`  with 4 inputs .\n",
    "- If Weight of an input is high,it means the imput is more important."
   ]
  },
  {
   "cell_type": "code",
   "execution_count": 2,
   "id": "86861dc7",
   "metadata": {},
   "outputs": [
    {
     "name": "stdout",
     "output_type": "stream",
     "text": [
      "4.8\n"
     ]
    }
   ],
   "source": [
    "output = (inputs[0]*weights[0]+inputs[1]*weights[1] +\n",
    "          inputs[2]*weights[2]+inputs[3]*weights[3]+bias)\n",
    "print(output)"
   ]
  },
  {
   "cell_type": "markdown",
   "id": "1f07cf95",
   "metadata": {},
   "source": [
    "##### Lets build a layer with multiple neurons"
   ]
  },
  {
   "cell_type": "code",
   "execution_count": 3,
   "id": "e8fe9d19",
   "metadata": {},
   "outputs": [],
   "source": [
    "inputs = [1.0, 2.0, 3.0, 2.5]\n",
    "weights = [[0.2, 0.8, -0.5, 1.0], [0.5, -0.91,\n",
    "                                   0.26, -0.5], [-0.26, -0.27, 0.17, 0.87]]\n",
    "bias = [2, 3, 0.5]"
   ]
  },
  {
   "cell_type": "code",
   "execution_count": 4,
   "id": "eebc61f9",
   "metadata": {},
   "outputs": [
    {
     "name": "stdout",
     "output_type": "stream",
     "text": [
      "[4.8, 1.21, 2.385]\n"
     ]
    }
   ],
   "source": [
    "output = [(inputs[0]*weights[0][0]+inputs[1]*weights[0][1]+inputs[2]*weights[0][2]+inputs[3]*weights[0][3]+bias[0]),\n",
    "          (inputs[0]*weights[1][0]+inputs[1]*weights[1][1] +\n",
    "           inputs[2]*weights[1][2]+inputs[3]*weights[1][3]+bias[1]),\n",
    "          (inputs[0]*weights[2][0]+inputs[1]*weights[2][1] +\n",
    "           inputs[2]*weights[2][2]+inputs[3]*weights[2][3]+bias[2])\n",
    "          ]\n",
    "\n",
    "print(output)"
   ]
  },
  {
   "cell_type": "markdown",
   "id": "b51f8310",
   "metadata": {},
   "source": [
    "#### Lets build the layer using loop instead of doing it manually\n",
    "\n",
    "##### Things To Know About Layers and Neurons :\n",
    "- A layer in a Neural Network contains multiple neurons.\n",
    "- All neurons receive the same input vector.\n",
    "- Each neuron has its own unique set of weights and one bias.\n",
    "- Each input value is multiplied by its corresponding weight.\n",
    "- The neuron adds all these weighted values together and then adds the bias.\n",
    "- This produces one output value per neuron, so the whole layer outputs a list of values.\n",
    "\n"
   ]
  },
  {
   "cell_type": "code",
   "execution_count": 5,
   "id": "923050bb",
   "metadata": {},
   "outputs": [
    {
     "name": "stdout",
     "output_type": "stream",
     "text": [
      "[4.8, 1.21, 2.385]\n"
     ]
    }
   ],
   "source": [
    "layer_output=[]\n",
    "\n",
    "# for each neuron\n",
    "\n",
    "for neuron_weights,neuron_bias in zip(weights,bias):\n",
    "    neuron_output=0\n",
    "    # for each inp to weight \n",
    "    \n",
    "    for idv_input,idv_weight in zip(inputs,neuron_weights):\n",
    "        \n",
    "        # multiply and add\n",
    "        \n",
    "        neuron_output+=idv_input*idv_weight\n",
    "        \n",
    "    #add bias\n",
    "    \n",
    "    neuron_output+=neuron_bias\n",
    "    \n",
    "    \n",
    "    # add this to layer output\n",
    "    \n",
    "    layer_output.append(neuron_output)\n",
    "    \n",
    "print(layer_output)\n",
    "    \n",
    "    \n"
   ]
  },
  {
   "cell_type": "code",
   "execution_count": null,
   "id": "f9a81a84",
   "metadata": {},
   "outputs": [],
   "source": []
  }
 ],
 "metadata": {
  "kernelspec": {
   "display_name": ".venv",
   "language": "python",
   "name": "python3"
  },
  "language_info": {
   "codemirror_mode": {
    "name": "ipython",
    "version": 3
   },
   "file_extension": ".py",
   "mimetype": "text/x-python",
   "name": "python",
   "nbconvert_exporter": "python",
   "pygments_lexer": "ipython3",
   "version": "3.13.5"
  }
 },
 "nbformat": 4,
 "nbformat_minor": 5
}
