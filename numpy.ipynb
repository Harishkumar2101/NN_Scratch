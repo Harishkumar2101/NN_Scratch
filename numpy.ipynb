{
 "cells": [
  {
   "cell_type": "markdown",
   "id": "8fb5bbe9",
   "metadata": {},
   "source": [
    "#### Numpy\n",
    "\n",
    "- we can use `numpy` to multiply weights and inputs .\n",
    "\n"
   ]
  },
  {
   "cell_type": "markdown",
   "id": "8432f793",
   "metadata": {},
   "source": [
    "#### Rules\n",
    "\n",
    "- syntax to apply dot product is `np.dot(a,b)`.\n",
    "\n",
    "- a,b can be vectors or matrices.\n",
    "\n",
    "- vector * vector is a vector.\n",
    "  - `np.dot(a,b) = np.dot(b,a)`\n",
    "\n",
    "- Dot product rules with matrix :-\n",
    "\n",
    "\t-\tWhen we multiply a vector or a matrix with another matrix, the multiplication is valid only if:\n",
    "\t-\tFirst matrix has size m × n\n",
    "\t-\tSecond matrix has size n × p\n",
    "\t-   The inner dimensions (n and n) must match\n",
    "\t-\tThe output matrix size will be: **m × p**\n",
    "    -   np.dot(a, b) $ \\ne $ np.dot(b, a)\n",
    "\n",
    "\t\n",
    "\n"
   ]
  },
  {
   "cell_type": "markdown",
   "id": "dec28104",
   "metadata": {},
   "source": [
    "### Single Neuron"
   ]
  },
  {
   "cell_type": "code",
   "execution_count": 16,
   "id": "f61a52e5",
   "metadata": {},
   "outputs": [
    {
     "name": "stdout",
     "output_type": "stream",
     "text": [
      "4.8\n"
     ]
    }
   ],
   "source": [
    "import numpy as np\n",
    "\n",
    "inputs =[1.0,2.0,3.0,2.5]\n",
    "weights=[0.2,0.8,-0.5,1.0]\n",
    "bias=2.0\n",
    "\n",
    "outputs=np.dot(weights,inputs) +bias\n",
    "\n",
    "print(outputs)"
   ]
  },
  {
   "cell_type": "markdown",
   "id": "d8332ae7",
   "metadata": {},
   "source": [
    "### Multiple Neurons"
   ]
  },
  {
   "cell_type": "markdown",
   "id": "6cc4656c",
   "metadata": {},
   "source": [
    "**Rules :**\n",
    "\n",
    "- Always check rows and colms to multiply .\n",
    "  - Numpy doesnt apply dot product if col of first matrix and row of second matrix dont match the size .\n",
    "  - But lets say if both matrices are of same size doesnt mean we blindly apply **dot product**.\n",
    "  -\tMake sure each input vector is multiplied only with the corresponding neuron’s weight vector — otherwise, you end up multiplying inputs  with the wrong weights. \n",
    "     - if u apply dot product to input,weights it multiplies input to weights of first element of every neuron i.e., instead of `x1*w11 +x2*w12 it  does x1*w11+x2*w21` \n",
    "     - for `np.dot(inputs ,weights)` we use case transporse so `np.dot(inputs,weights.T)`\n",
    "\n",
    "  "
   ]
  },
  {
   "cell_type": "code",
   "execution_count": 17,
   "id": "074fa081",
   "metadata": {},
   "outputs": [],
   "source": [
    "inputs = [1.0, 2.0, 3.0, 2.5]\n",
    "weights = [\n",
    "           [0.2, 0.8, -0.5, 1.0], \n",
    "           [0.5, -0.91,0.26, -0.5],\n",
    "           [-0.26, -0.27, 0.17, 0.87]\n",
    "          ]\n",
    "bias = [2, 3, 0.5]"
   ]
  },
  {
   "cell_type": "code",
   "execution_count": 23,
   "id": "f47ee895",
   "metadata": {},
   "outputs": [
    {
     "data": {
      "text/plain": [
       "[np.float64(4.8), np.float64(1.2099999999999997), np.float64(2.385)]"
      ]
     },
     "execution_count": 23,
     "metadata": {},
     "output_type": "execute_result"
    }
   ],
   "source": [
    "output = [np.dot(inputs,weights[0])+bias[0],np.dot(inputs,weights[1])+bias[1],np.dot(inputs,weights[2])+bias[2]]\n",
    "output"
   ]
  },
  {
   "cell_type": "markdown",
   "id": "64cb370c",
   "metadata": {},
   "source": [
    "It gets complex as neurons increase so we use matrix method which is , we create a matrix of weights and then apply dot product to our input vector"
   ]
  },
  {
   "cell_type": "code",
   "execution_count": 30,
   "id": "e82396af",
   "metadata": {},
   "outputs": [
    {
     "data": {
      "text/plain": [
       "array([4.8  , 1.21 , 2.385])"
      ]
     },
     "execution_count": 30,
     "metadata": {},
     "output_type": "execute_result"
    }
   ],
   "source": [
    "output= np.dot(weights,inputs)+bias\n",
    "output"
   ]
  },
  {
   "cell_type": "code",
   "execution_count": null,
   "id": "56996f8d",
   "metadata": {},
   "outputs": [],
   "source": []
  },
  {
   "cell_type": "markdown",
   "id": "b6cec98e",
   "metadata": {},
   "source": []
  }
 ],
 "metadata": {
  "kernelspec": {
   "display_name": "nn_scratch_venv",
   "language": "python",
   "name": "python3"
  },
  "language_info": {
   "codemirror_mode": {
    "name": "ipython",
    "version": 3
   },
   "file_extension": ".py",
   "mimetype": "text/x-python",
   "name": "python",
   "nbconvert_exporter": "python",
   "pygments_lexer": "ipython3",
   "version": "3.12.1"
  }
 },
 "nbformat": 4,
 "nbformat_minor": 5
}
